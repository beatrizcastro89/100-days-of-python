{
 "cells": [
  {
   "cell_type": "markdown",
   "metadata": {},
   "source": [
    "# Day 3 - Treasure Hunt"
   ]
  },
  {
   "cell_type": "markdown",
   "metadata": {},
   "source": [
    "<h3>Is this number even?</h3>\n",
    "The first exercise of the day revolves around checking if the number is even or odd. To do that, we will ask the user for a number and see if it's module with 2 is zero, indicating that the number is even, or not, indicating that the number isn't even. We will then report back to the user if the number they chose is even or odd."
   ]
  },
  {
   "cell_type": "code",
   "execution_count": 2,
   "metadata": {},
   "outputs": [
    {
     "name": "stdout",
     "output_type": "stream",
     "text": [
      "Which number do you want to check? 2\n",
      "The number 2 is even\n"
     ]
    }
   ],
   "source": [
    "# first let's collect the number we want to check\n",
    "\n",
    "number = int(input(\"Which number do you want to check? \"))\n",
    "\n",
    "if number % 2 == 0:\n",
    "    \n",
    "    print(f\"The number {number} is even\")\n",
    "\n",
    "else:\n",
    "    \n",
    "    print(f\"The number {number} is odd\")"
   ]
  },
  {
   "cell_type": "markdown",
   "metadata": {},
   "source": [
    "<h3>BMI Calculator</h3>\n",
    "We will calculate de BMI of the user and bring it's result to the user. The calculation will take the weight of the user and divide it by their height elevated to two. We will then divide them into the following categories:\n",
    "<ul>\n",
    "    <li>Underweight - Bellow 18.5</li>\n",
    "    <li>Normal - Between 18.5 up to 24.9</li>\n",
    "    <li>Overweight - Between 25 and 29.9</li>\n",
    "    <li>Obesity I - Between 30 and 34.9</li>\n",
    "    <li>Obesity II - Between 35 and 39.9</li>\n",
    "    <li>Obesity III - 40 and over</li>"
   ]
  },
  {
   "cell_type": "code",
   "execution_count": 4,
   "metadata": {},
   "outputs": [
    {
     "name": "stdout",
     "output_type": "stream",
     "text": [
      "What is your height in m? 1.71\n",
      "What is your weight in kg? 95\n",
      "Your BMI is 32 and you are currently obese - class 1.\n"
     ]
    }
   ],
   "source": [
    "# first, let's get the user's height and weight\n",
    "height = float(input(\"What is your height in m? \"))\n",
    "weight = float(input(\"What is your weight in kg? \"))\n",
    "\n",
    "# then, let's calculate the BMI\n",
    "BMI = round(weight / (height ** 2))\n",
    "\n",
    "# conditionals to check in which category the user is\n",
    "if BMI < 18.5:\n",
    "    print(f\"Your BMI is {BMI} and you are currently underweight.\")\n",
    "elif 18.5 <= BMI < 25:\n",
    "    print(f\"Your BMI is {BMI} and you are currently in a normal weight.\")\n",
    "elif 25 <= BMI < 30:\n",
    "    print(f\"Your BMI is {BMI} and you are currently overweight.\")\n",
    "elif 30 <= BMI < 35:\n",
    "    print(f\"Your BMI is {BMI} and you are currently obese - class 1.\")\n",
    "elif 35 <= BMI < 40:\n",
    "    print(f\"Your BMI is {BMI} and you are currently obese - class 2.\")\n",
    "else:\n",
    "    print(f\"Your BMI is {BMI} and you are currently obese - class 3.\")"
   ]
  },
  {
   "cell_type": "markdown",
   "metadata": {},
   "source": [
    "<h3>Leap Year</h3>\n",
    "This exercise proposes to check if a year is a leap year or not. In order for it to be a leap year, it has to be divided by 4, except if it's divided by 100, unless the year is also divisible by 400."
   ]
  },
  {
   "cell_type": "code",
   "execution_count": 7,
   "metadata": {},
   "outputs": [],
   "source": [
    "#let's create a function to check if the year is a leap year or not\n",
    "def leap_year():\n",
    "\n",
    "    # first let's get the user's input to see which year they want to check\n",
    "    year = int(input(\"Leap Year Validator\\nWhat year would you like to check?\\n\"))\n",
    "\n",
    "    # let's start with the first layer of conditional testing\n",
    "    if year % 4 == 0:\n",
    "        if year % 100 == 0:\n",
    "            if year % 400 == 0:\n",
    "                print(f\"The year {year} is a leap year.\")\n",
    "            else:\n",
    "                print(f\"The year {year} is not a leap year.\")\n",
    "        else:\n",
    "            print(f\"The year {year} is a leap year.\")\n",
    "    else:\n",
    "        print(f\"The year {year} is not a leap year.\")"
   ]
  },
  {
   "cell_type": "code",
   "execution_count": 8,
   "metadata": {},
   "outputs": [
    {
     "name": "stdout",
     "output_type": "stream",
     "text": [
      "Leap Year Validator\n",
      "What year would you like to check?\n",
      "2000\n",
      "The year 2000 is a leap year.\n"
     ]
    }
   ],
   "source": [
    "# checking if 2000, which was a leap year, returns with a leap year result\n",
    "leap_year()"
   ]
  },
  {
   "cell_type": "code",
   "execution_count": 9,
   "metadata": {},
   "outputs": [
    {
     "name": "stdout",
     "output_type": "stream",
     "text": [
      "Leap Year Validator\n",
      "What year would you like to check?\n",
      "2021\n",
      "The year 2021 is not a leap year.\n"
     ]
    }
   ],
   "source": [
    "# checking if 2021, which is not a leap year, returns with a not leap year result\n",
    "leap_year()"
   ]
  },
  {
   "cell_type": "markdown",
   "metadata": {},
   "source": [
    "<h3>Python Pizza Delivery</h3>\n",
    "We will make a program that will determine the total value of the user's pizza order, following the pricing bellow:\n",
    "<ul>\n",
    "    <li>Small pizza 15</li>\n",
    "    <li>Medium Pizza 20</li>\n",
    "    <li>Large Pizza 25</li>\n",
    "    <li>Pepperoni for Small Pizza +2</li>\n",
    "    <li>Pepperoni for Medium or Large Pizza +3</li>\n",
    "    <li>Extra cheese for any size pizza +1</li>\n",
    "</ul>"
   ]
  },
  {
   "cell_type": "code",
   "execution_count": 16,
   "metadata": {},
   "outputs": [],
   "source": [
    "def pizza():\n",
    "    print(\"Welcome to Python Pizza Deliveries!\")\n",
    "    \n",
    "    # getting the user inputs on their pizza\n",
    "    size = input(\"What size pizza do you want? S, M, or L\\n\")\n",
    "    add_pepperoni = input(\"Do you want pepperoni? Y or N\\n\")\n",
    "    extra_cheese = input(\"Do you want extra cheese? Y or N\\n\")\n",
    "    \n",
    "    # creating the total value for the bill variable\n",
    "    bill = 0\n",
    "    \n",
    "    # calculating the price, starting with the pizza size\n",
    "    \n",
    "    if size == \"S\":\n",
    "        bill += 15\n",
    "    elif size == \"M\":\n",
    "        bill +=20\n",
    "    else:\n",
    "        bill += 25\n",
    "    \n",
    "    # adjusting the price wether the user wants or not pepperoni on their pizza\n",
    "    if add_pepperoni == \"Y\":\n",
    "        if size == \"S\":\n",
    "            bill += 2\n",
    "        else:\n",
    "            bill += 3\n",
    "    \n",
    "    # adjusting the price wether the user wants extra cheese on their pizza\n",
    "    if extra_cheese == \"Y\":\n",
    "        bill += 1\n",
    "    \n",
    "    # telling the user how much their pizza will cost\n",
    "    print(f\"Your total bill will be {bill}. Bon apetit!\")"
   ]
  },
  {
   "cell_type": "code",
   "execution_count": 17,
   "metadata": {},
   "outputs": [
    {
     "name": "stdout",
     "output_type": "stream",
     "text": [
      "Welcome to Python Pizza Deliveries!\n",
      "What size pizza do you want? S, M, or L\n",
      "S\n",
      "Do you want pepperoni? Y or N\n",
      "Y\n",
      "Do you want extra cheese? Y or N\n",
      "Y\n",
      "Your total bill will be 18. Bon apetit!\n"
     ]
    }
   ],
   "source": [
    "# calling the function\n",
    "pizza()"
   ]
  },
  {
   "cell_type": "markdown",
   "metadata": {},
   "source": [
    "<h3>Love compatibility</h3>\n",
    "On this exercise we will get the user's and their partner's name, check how many time the letters from TRUE LOVE show up and sum it to see the compatibility score between the partners. If the result is less than 10 or over 90, they are super compatible, if it's between 40 and 50, it's an ok compatibility, all the other results should only tell the user the compatibility score"
   ]
  },
  {
   "cell_type": "code",
   "execution_count": 20,
   "metadata": {},
   "outputs": [],
   "source": [
    "def love_compatibility():\n",
    "    \n",
    "    # getting the user's input\n",
    "    user_name = input(\"What is your name?\\n\")\n",
    "    partner_name = input(\"What is your partner name?\\n\")\n",
    "    \n",
    "    # creating a variable that will store both names together in lower case\n",
    "    names_combined = user_name.lower() + partner_name.lower()\n",
    "    \n",
    "    # checking for the counting for true\n",
    "    t = names_combined.count(\"t\")\n",
    "    r = names_combined.count(\"r\")\n",
    "    u = names_combined.count(\"u\")\n",
    "    e = names_combined.count(\"e\")\n",
    "    \n",
    "    # creating a variable to sum up the values for true\n",
    "    first_digit = t + r + u + e\n",
    "    \n",
    "    # checking for the counting for love\n",
    "    l = names_combined.count(\"l\")\n",
    "    o = names_combined.count(\"o\")\n",
    "    v = names_combined.count(\"v\")\n",
    "    # the e is already counted in the true check\n",
    "    \n",
    "    # creating a variable to sum up the values for love\n",
    "    second_digit = l + o + v + e\n",
    "    \n",
    "    # finding out the compatibility score\n",
    "    score = int(str(first_digit) + str(second_digit))\n",
    "    \n",
    "    # creating a validation to check what the message for the user should be\n",
    "    if (score <= 10 or score >= 90):\n",
    "        print(f\"Your score is {score}.\\nYou are two peas in a pod!\")\n",
    "    if 40 <= score <= 50:\n",
    "        print(f\"Your score is {score}.\\nYou two have an okay compatibility.\")\n",
    "    else:\n",
    "        print(f\"Your score is {score}.\")"
   ]
  },
  {
   "cell_type": "code",
   "execution_count": 22,
   "metadata": {},
   "outputs": [
    {
     "name": "stdout",
     "output_type": "stream",
     "text": [
      "What is your name?\n",
      "Kanye West\n",
      "What is your partner name?\n",
      "Kim Kardashian\n",
      "Your score is 42.\n",
      "You two have an okay compatibility.\n"
     ]
    }
   ],
   "source": [
    "love_compatibility()"
   ]
  },
  {
   "cell_type": "markdown",
   "metadata": {},
   "source": [
    "<h3>Treasure Hunt</h3>\n",
    "This is an interactive trasure hunt, that can give the user the ability to choose how to go on their adventure."
   ]
  },
  {
   "cell_type": "code",
   "execution_count": 25,
   "metadata": {},
   "outputs": [
    {
     "name": "stdout",
     "output_type": "stream",
     "text": [
      "\n",
      "*******************************************************************************\n",
      "          |                   |                  |                     |\n",
      " _________|________________.=\"\"_;=.______________|_____________________|_______\n",
      "|                   |  ,-\"_,=\"\"     `\"=.|                  |\n",
      "|___________________|__\"=._o`\"-._        `\"=.______________|___________________\n",
      "          |                `\"=._o`\"=._      _`\"=._                     |\n",
      " _________|_____________________:=._o \"=._.\"_.-=\"'\"=.__________________|_______\n",
      "|                   |    __.--\" , ; `\"=._o.\" ,-\"\"\"-._ \".   |\n",
      "|___________________|_._\"  ,. .` ` `` ,  `\"-._\"-._   \". '__|___________________\n",
      "          |           |o`\"=._` , \"` `; .\". ,  \"-._\"-._; ;              |\n",
      " _________|___________| ;`-.o`\"=._; .\" ` '`.\"\\` . \"-._ /_______________|_______\n",
      "|                   | |o;    `\"-.o`\"=._``  '` \" ,__.--o;   |\n",
      "|___________________|_| ;     (#) `-.o `\"=.`_.--\"_o.-; ;___|___________________\n",
      "____/______/______/___|o;._    \"      `\".o|o_.--\"    ;o;____/______/______/____\n",
      "/______/______/______/_\"=._o--._        ; | ;        ; ;/______/______/______/_\n",
      "____/______/______/______/__\"=._o--._   ;o|o;     _._;o;____/______/______/____\n",
      "/______/______/______/______/____\"=._o._; | ;_.--\"o.--\"_/______/______/______/_\n",
      "____/______/______/______/______/_____\"=.o|o_.--\"\"___/______/______/______/____\n",
      "/______/______/______/______/______/______/______/______/______/______/_____ /\n",
      "*******************************************************************************\n",
      "\n",
      "Welcome to Treasure Island.\n",
      "What is your name?\n",
      "Beatriz\n",
      "Beatriz, your mission is to find the treasure.\n",
      "You're at a cross road. Where do you want to go? Type \"left\" or \"right\" \n",
      "left\n",
      "You've come to a lake. There is an island in the middle of the lake. Type \"wait\" to wait for a boat. Type \"swim\" to swim across. \n",
      "wait\n",
      "You arrive at the island unharmed. There is a house with 3 doors. One red, one yellow and one blue. Which colour do you choose? \n",
      "yellow\n",
      "You found the treasure! You Win!\n"
     ]
    }
   ],
   "source": [
    "# let's start by giving the starting vibe, with a very cool ASCII art\n",
    "print('''\n",
    "*******************************************************************************\n",
    "          |                   |                  |                     |\n",
    " _________|________________.=\"\"_;=.______________|_____________________|_______\n",
    "|                   |  ,-\"_,=\"\"     `\"=.|                  |\n",
    "|___________________|__\"=._o`\"-._        `\"=.______________|___________________\n",
    "          |                `\"=._o`\"=._      _`\"=._                     |\n",
    " _________|_____________________:=._o \"=._.\"_.-=\"'\"=.__________________|_______\n",
    "|                   |    __.--\" , ; `\"=._o.\" ,-\"\"\"-._ \".   |\n",
    "|___________________|_._\"  ,. .` ` `` ,  `\"-._\"-._   \". '__|___________________\n",
    "          |           |o`\"=._` , \"` `; .\". ,  \"-._\"-._; ;              |\n",
    " _________|___________| ;`-.o`\"=._; .\" ` '`.\"\\` . \"-._ /_______________|_______\n",
    "|                   | |o;    `\"-.o`\"=._``  '` \" ,__.--o;   |\n",
    "|___________________|_| ;     (#) `-.o `\"=.`_.--\"_o.-; ;___|___________________\n",
    "____/______/______/___|o;._    \"      `\".o|o_.--\"    ;o;____/______/______/____\n",
    "/______/______/______/_\"=._o--._        ; | ;        ; ;/______/______/______/_\n",
    "____/______/______/______/__\"=._o--._   ;o|o;     _._;o;____/______/______/____\n",
    "/______/______/______/______/____\"=._o._; | ;_.--\"o.--\"_/______/______/______/_\n",
    "____/______/______/______/______/_____\"=.o|o_.--\"\"___/______/______/______/____\n",
    "/______/______/______/______/______/______/______/______/______/______/_____ /\n",
    "*******************************************************************************\n",
    "''')\n",
    "\n",
    "# let's welcome the user and tell them what they have to do\n",
    "print(\"Welcome to Treasure Island.\")\n",
    "name = input(\"What is your name?\\n\")\n",
    "print(f\"{name.capitalize()}, your mission is to find the treasure.\")\n",
    "\n",
    "# check the first choice of the user\n",
    "choice1 = input('You\\'re at a cross road. Where do you want to go? Type \"left\" or \"right\" \\n').lower()\n",
    "\n",
    "# if the user decided to go left, they can continue the adventure\n",
    "if choice1 == \"left\":\n",
    "    # if the user decides to wait, the game continues\n",
    "    choice2 = input('You\\'ve come to a lake. There is an island in the middle of the lake. Type \"wait\" to wait for a boat. Type \"swim\" to swim across. \\n').lower()\n",
    "    if choice2 == \"wait\":\n",
    "        # giving different results depending on the user's answer\n",
    "        choice3 = input(\"You arrive at the island unharmed. There is a house with 3 doors. One red, one yellow and one blue. Which colour do you choose? \\n\").lower()\n",
    "        if choice3 == \"red\":\n",
    "            print(\"It's a room full of fire. Game Over.\")\n",
    "        elif choice3 == \"yellow\":\n",
    "            print(\"You found the treasure! You Win!\")\n",
    "        elif choice3 == \"blue\":\n",
    "            print(\"You enter a room of beasts. Game Over.\")\n",
    "        else:\n",
    "            print(\"You chose a door that doesn't exist. Game Over.\")\n",
    "    # if the user chose to swim, the game is over\n",
    "    else:\n",
    "        print(\"You get attacked by an angry trout. Game Over.\")\n",
    "\n",
    "# if the user chose right, the game is over\n",
    "else:\n",
    "    print(\"You fell into a hole. Game Over.\")"
   ]
  },
  {
   "cell_type": "code",
   "execution_count": null,
   "metadata": {},
   "outputs": [],
   "source": []
  }
 ],
 "metadata": {
  "kernelspec": {
   "display_name": "Python 3",
   "language": "python",
   "name": "python3"
  },
  "language_info": {
   "codemirror_mode": {
    "name": "ipython",
    "version": 3
   },
   "file_extension": ".py",
   "mimetype": "text/x-python",
   "name": "python",
   "nbconvert_exporter": "python",
   "pygments_lexer": "ipython3",
   "version": "3.7.6"
  }
 },
 "nbformat": 4,
 "nbformat_minor": 4
}
