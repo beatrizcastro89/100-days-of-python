{
 "cells": [
  {
   "cell_type": "markdown",
   "metadata": {},
   "source": [
    "# Day 2 - Tip Calculator"
   ]
  },
  {
   "cell_type": "markdown",
   "metadata": {},
   "source": [
    "<h3>Sum of the number's two digits</h3>"
   ]
  },
  {
   "cell_type": "markdown",
   "metadata": {},
   "source": [
    "Before going into the tip calculator function, I will start by creating a small program that sums the two digits of a number. With this it will be possible to work through substrings and changing variable types."
   ]
  },
  {
   "cell_type": "code",
   "execution_count": 1,
   "metadata": {},
   "outputs": [
    {
     "name": "stdout",
     "output_type": "stream",
     "text": [
      "How about finding out the sum of the two digits of a number?\n",
      "Type a two digit number: 87\n",
      "15\n"
     ]
    }
   ],
   "source": [
    "print(\"How about finding out the sum of the two digits of a number?\")\n",
    "\n",
    "# create an input so the user can insert a two digit number\n",
    "two_digit_number = input(\"Type a two digit number: \")\n",
    "\n",
    "# changing the type of the input, which is originally a string, into an integer, for each of the numbers\n",
    "# to do that, we select only the part of the string we wish to use\n",
    "# the first number (position 0) and the second number (position 1)\n",
    "sum_number = int(two_digit_number[0]) + int(two_digit_number[1])\n",
    "\n",
    "# print the result of the sum of the numbers\n",
    "print(sum_number)"
   ]
  },
  {
   "cell_type": "markdown",
   "metadata": {},
   "source": [
    "<h3>BMI Calculator</h3>"
   ]
  },
  {
   "cell_type": "markdown",
   "metadata": {},
   "source": [
    "The second program I want to work on is calculating the BMI of the user. To do that, we gather their height and weight and calculate the BMI by dividing the weight by the height elevated by square. I also rounded up the result for the BMI to two decimals to make it easier to be read by the user"
   ]
  },
  {
   "cell_type": "code",
   "execution_count": 2,
   "metadata": {},
   "outputs": [
    {
     "name": "stdout",
     "output_type": "stream",
     "text": [
      "enter your height in m: 1.71\n",
      "enter your weight in kg: 95\n",
      "Your BMI is 32.49\n"
     ]
    }
   ],
   "source": [
    "# gather the input of the user for their height and weight\n",
    "height = input(\"enter your height in m: \")\n",
    "weight = input(\"enter your weight in kg: \")\n",
    "\n",
    "# calculating the BMI and then printing it\n",
    "BMI = float(weight) / (float(height) ** 2)\n",
    "\n",
    "# printing the result and rounding the value of the BMI to two decimals to make it easier to be read\n",
    "print(\"Your BMI is \" + str(round(BMI,2)))"
   ]
  },
  {
   "cell_type": "markdown",
   "metadata": {},
   "source": [
    "<h3>How time is left until you turn 90 years old</h3>"
   ]
  },
  {
   "cell_type": "markdown",
   "metadata": {},
   "source": [
    "The third exercise makes us divscover how many days, weeks and months we have until we are 90 years old. For that, we considered that a year has 365 days, 52 weeks and 12 months. We used the concept of f-string to bring out the results. We need the date functions from the datetime library, so we can calculate the current age of the person."
   ]
  },
  {
   "cell_type": "code",
   "execution_count": 3,
   "metadata": {},
   "outputs": [],
   "source": [
    "# first let's import the datetime, dateutil and numpy library\n",
    "import datetime\n",
    "import dateutil"
   ]
  },
  {
   "cell_type": "code",
   "execution_count": 4,
   "metadata": {},
   "outputs": [],
   "source": [
    "# creating a variable that holds today's date\n",
    "# first, getting the exact time\n",
    "today = datetime.datetime.utcnow()\n",
    "# then extracting the date\n",
    "today = today.date()"
   ]
  },
  {
   "cell_type": "code",
   "execution_count": 5,
   "metadata": {},
   "outputs": [],
   "source": [
    "# let's calculate how many days, weeks and months there are in 90 years\n",
    "# we will consider 365 days, 52 weeks and 12 months for each year\n",
    "days_total = 90 * 365\n",
    "weeks_total = 90 * 52\n",
    "months_total = 90 * 12"
   ]
  },
  {
   "cell_type": "code",
   "execution_count": 6,
   "metadata": {},
   "outputs": [],
   "source": [
    "# creating a function for us to calculate how much time you have left until you're 90\n",
    "\n",
    "def time_left():\n",
    "    # creating an input so the user input their birthday\n",
    "    birthday = input(\"Hello, when were you born? Please use the MM/DD/YYYY format\\n\")\n",
    "    \n",
    "    # creating the date format so we can convert the input into a datetime type\n",
    "    date_format = '%m/%d/%Y'\n",
    "    # transforming the birthday input into datetime variable\n",
    "    birthday_datetime = datetime.datetime.strptime(birthday, date_format)\n",
    "    # getting the birthday in a date format\n",
    "    birthday_date = birthday_datetime.date()\n",
    "    \n",
    "    # finding out how many days old the user is\n",
    "    age_days = today - birthday_date\n",
    "    # finding out how many weeks old the user is\n",
    "    age_weeks = age_days // 7\n",
    "    # finding out how many months old the user is\n",
    "    age_months = (today.year - birthday_date.year) * 12 + today.month - birthday_date.month\n",
    "    \n",
    "    # finding out how many days, months and years until the user turns 90\n",
    "    days_left = days_total - age_days.days\n",
    "    weeks_left = weeks_total - age_weeks.days\n",
    "    months_left = months_total - age_months\n",
    "    \n",
    "    # printind out the result for the user\n",
    "    print(f\"Hello! Here is how much you have left until you turn 90:\\n- {days_left} days left\\n- {weeks_left} weeks left\\n- {months_left} months left\")\n",
    "    print(\"Make good use of your time left :)\")"
   ]
  },
  {
   "cell_type": "code",
   "execution_count": 7,
   "metadata": {},
   "outputs": [
    {
     "name": "stdout",
     "output_type": "stream",
     "text": [
      "Hello, when were you born? Please use the MM/DD/YYYY format\n",
      "06/20/1989\n",
      "Hello! Here is how much you have left until you turn 90:\n",
      "- 21051 days left\n",
      "- 2995 weeks left\n",
      "- 692 months left\n",
      "Make good use of your time left :)\n"
     ]
    }
   ],
   "source": [
    "# calling the function\n",
    "time_left()"
   ]
  },
  {
   "cell_type": "markdown",
   "metadata": {},
   "source": [
    "<h3>Tip Calculator</h3>"
   ]
  },
  {
   "cell_type": "markdown",
   "metadata": {},
   "source": [
    "For the last challenge of the day, we will work through a tip calculator. The user will be able to input the total value of the receipt, determine the percentage of tip, set between how many people the bill will be divided and decide if the value is ok or if they want to calculate the tip again."
   ]
  },
  {
   "cell_type": "code",
   "execution_count": 8,
   "metadata": {},
   "outputs": [],
   "source": [
    "def tip_calculator():\n",
    "    bill = float(input(\"How much was the bill? $\"))\n",
    "    tip = float(input(\"What percentage would you like to tip?\\n\"))\n",
    "    tip_percentage = tip / 100\n",
    "    bill_tip = bill * tip_percentage\n",
    "    people = int(input (\"How many people will be dividing the tip?\\n\"))\n",
    "    value = round((bill + bill_tip) / people, 2)\n",
    "    print(f\"The total per person is {value}\")\n",
    "    restart = input(\"Would you like to recalculate your tip? (Y/N)\\n\")\n",
    "    while restart.lower() == \"y\":\n",
    "        tip = float(input(\"What percentage would you like to tip?\\n\"))\n",
    "        tip_percentage = tip / 100\n",
    "        bill_tip = bill * tip_percentage\n",
    "        value = round((bill + bill_tip) / people, 2)\n",
    "        print(f\"The total per person is {value}\")\n",
    "        restart = input(\"Would you like to recalculate your tip? (Y/N)\\n\")"
   ]
  },
  {
   "cell_type": "code",
   "execution_count": 9,
   "metadata": {},
   "outputs": [
    {
     "name": "stdout",
     "output_type": "stream",
     "text": [
      "How much was the bill? $100\n",
      "What percentage would you like to tip?\n",
      "40\n",
      "How many people will be dividing the tip?\n",
      "4\n",
      "The total per person is 35.0\n",
      "Would you like to recalculate your tip? (Y/N)\n",
      "y\n",
      "What percentage would you like to tip?\n",
      "20\n",
      "The total per person is 30.0\n",
      "Would you like to recalculate your tip? (Y/N)\n",
      "y\n",
      "What percentage would you like to tip?\n",
      "10\n",
      "The total per person is 27.5\n",
      "Would you like to recalculate your tip? (Y/N)\n",
      "n\n"
     ]
    }
   ],
   "source": [
    "# testing the function\n",
    "tip_calculator()"
   ]
  }
 ],
 "metadata": {
  "kernelspec": {
   "display_name": "Python 3",
   "language": "python",
   "name": "python3"
  },
  "language_info": {
   "codemirror_mode": {
    "name": "ipython",
    "version": 3
   },
   "file_extension": ".py",
   "mimetype": "text/x-python",
   "name": "python",
   "nbconvert_exporter": "python",
   "pygments_lexer": "ipython3",
   "version": "3.7.6"
  }
 },
 "nbformat": 4,
 "nbformat_minor": 4
}
