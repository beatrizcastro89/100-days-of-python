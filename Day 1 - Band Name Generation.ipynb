{
 "cells": [
  {
   "cell_type": "markdown",
   "metadata": {},
   "source": [
    "# Day 1 - Band Name Generator"
   ]
  },
  {
   "cell_type": "markdown",
   "metadata": {},
   "source": [
    "This is the first challenge of my 100 days of code in python: create a band name generator. For this, I will give two different solutions. The first will be according to the Welcome to the 100 Days of Code - The Complete Python Pro Bootcamp course from Udemy, where you ask for the name of the city you grew up in and your pet's name to create a band name. The second will be a mix of a pre-stablished list of colors and objects and user inputs into a function that can generate many random names."
   ]
  },
  {
   "cell_type": "markdown",
   "metadata": {},
   "source": [
    "<h3>First resolution to the challenge</h3>"
   ]
  },
  {
   "cell_type": "code",
   "execution_count": 1,
   "metadata": {},
   "outputs": [
    {
     "name": "stdout",
     "output_type": "stream",
     "text": [
      "Welcome to the Band Name Generator.\n",
      "What's name of the city you grew up in?\n",
      "São Paulo\n",
      "What's your pet's name?\n",
      "Kiwi\n",
      "Your band name could be São Paulo Kiwi\n"
     ]
    }
   ],
   "source": [
    "print(\"Welcome to the Band Name Generator.\")\n",
    "street = input(\"What's name of the city you grew up in?\\n\")\n",
    "pet = input(\"What's your pet's name?\\n\")\n",
    "print(\"Your band name could be \" + street + \" \" + pet)"
   ]
  },
  {
   "cell_type": "markdown",
   "metadata": {},
   "source": [
    "<h3>Second resolution to the challenge</h3>"
   ]
  },
  {
   "cell_type": "markdown",
   "metadata": {},
   "source": [
    "The first step will be creating a list of different colors and different objects."
   ]
  },
  {
   "cell_type": "code",
   "execution_count": 2,
   "metadata": {},
   "outputs": [],
   "source": [
    "# creating the colors list\n",
    "colors = ['Pink', 'Red', 'Blue', 'Purple', 'Silver', 'Gold', 'Orange', 'Yellow', 'Black']"
   ]
  },
  {
   "cell_type": "code",
   "execution_count": 3,
   "metadata": {},
   "outputs": [],
   "source": [
    "# creating the objects list\n",
    "objects = ['Pencil', 'Headset', 'Agenda', 'Television', 'Food', 'Pills', 'Napkins', 'Flower', 'Paint', 'Ink', 'Octopus']"
   ]
  },
  {
   "cell_type": "markdown",
   "metadata": {},
   "source": [
    "We will now create a function that will choose a random element from the colors list and one from the objects list. For that it will be necessary to import the random lib."
   ]
  },
  {
   "cell_type": "code",
   "execution_count": 4,
   "metadata": {},
   "outputs": [],
   "source": [
    "import random"
   ]
  },
  {
   "cell_type": "code",
   "execution_count": 5,
   "metadata": {},
   "outputs": [],
   "source": [
    "# defining the function\n",
    "\n",
    "def random_name():\n",
    "    print(\"Welcome to your band name generator!\\n\")\n",
    "    \n",
    "    # creating an input to get more objects from the user\n",
    "    want_input = input(\"Would you like to give us some words to start off your band name? [Y/N]\\n\")\n",
    "    want_input\n",
    "    \n",
    "    # if the user wants to input words, we will create a list and generate a random name using it\n",
    "    # we use the upper method to make sure that even if the person types in lower case, we can use the logic validation\n",
    "    if want_input.upper() == \"Y\":\n",
    "        user_input = input(\"What words would you like to input? (use only a space between words)\\n\")\n",
    "        user_input\n",
    "        list_input = user_input.split(' ')\n",
    "        \n",
    "        # to create the name generator, we will randomly choose a color, one of the user inputs and an object\n",
    "        # we use the capitalize method to make sure the band name looks nice\n",
    "        band_name = random.choice(colors) + \" \" + random.choice(list_input).capitalize() + \" \" + random.choice(objects)\n",
    "        print(\"Your band name could be {}\".format(band_name))\n",
    "    \n",
    "    else:\n",
    "        # to create the name generator, we will randomly choose a color and an object\n",
    "        band_name = random.choice(colors) + \" \" + random.choice(objects)\n",
    "        print(\"Your band name could be {}\".format(band_name))        "
   ]
  },
  {
   "cell_type": "code",
   "execution_count": 7,
   "metadata": {},
   "outputs": [
    {
     "name": "stdout",
     "output_type": "stream",
     "text": [
      "Welcome to your band name generator!\n",
      "\n",
      "Would you like to give us some words to start off your band name? [Y/N]\n",
      "Y\n",
      "What words would you like to input? (use only a space between words)\n",
      "Snow Globe\n",
      "Your band name could be Pink Snow Napkins\n"
     ]
    }
   ],
   "source": [
    "# let's try our function using capitalized letters\n",
    "random_name()"
   ]
  },
  {
   "cell_type": "code",
   "execution_count": 8,
   "metadata": {},
   "outputs": [
    {
     "name": "stdout",
     "output_type": "stream",
     "text": [
      "Welcome to your band name generator!\n",
      "\n",
      "Would you like to give us some words to start off your band name? [Y/N]\n",
      "Y\n",
      "What words would you like to input? (use only a space between words)\n",
      "snow globe\n",
      "Your band name could be Black Globe Octopus\n"
     ]
    }
   ],
   "source": [
    "# let's try our function not using capitalized letters\n",
    "random_name()"
   ]
  },
  {
   "cell_type": "code",
   "execution_count": 9,
   "metadata": {},
   "outputs": [
    {
     "name": "stdout",
     "output_type": "stream",
     "text": [
      "Welcome to your band name generator!\n",
      "\n",
      "Would you like to give us some words to start off your band name? [Y/N]\n",
      "y\n",
      "What words would you like to input? (use only a space between words)\n",
      "kitty puppy\n",
      "Your band name could be Gold Kitty Pencil\n"
     ]
    }
   ],
   "source": [
    "# let's try our function not using upper Y\n",
    "random_name()"
   ]
  },
  {
   "cell_type": "code",
   "execution_count": 10,
   "metadata": {},
   "outputs": [
    {
     "name": "stdout",
     "output_type": "stream",
     "text": [
      "Welcome to your band name generator!\n",
      "\n",
      "Would you like to give us some words to start off your band name? [Y/N]\n",
      "n\n",
      "Your band name could be Orange Pills\n"
     ]
    }
   ],
   "source": [
    "# let's try our function not including an input\n",
    "random_name()"
   ]
  },
  {
   "cell_type": "code",
   "execution_count": null,
   "metadata": {},
   "outputs": [],
   "source": []
  }
 ],
 "metadata": {
  "kernelspec": {
   "display_name": "Python 3",
   "language": "python",
   "name": "python3"
  },
  "language_info": {
   "codemirror_mode": {
    "name": "ipython",
    "version": 3
   },
   "file_extension": ".py",
   "mimetype": "text/x-python",
   "name": "python",
   "nbconvert_exporter": "python",
   "pygments_lexer": "ipython3",
   "version": "3.7.6"
  }
 },
 "nbformat": 4,
 "nbformat_minor": 4
}
